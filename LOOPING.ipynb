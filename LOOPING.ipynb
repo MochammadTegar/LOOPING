{
 "cells": [
  {
   "cell_type": "code",
   "execution_count": 3,
   "id": "a2db1972",
   "metadata": {},
   "outputs": [
    {
     "name": "stdout",
     "output_type": "stream",
     "text": [
      "1 2 3 4 5 6 7 8 9 10 "
     ]
    }
   ],
   "source": [
    "#mencetak angka 1 - 10\n",
    "\n",
    "for i in range(1,11):\n",
    "    print (i, end=\" \")"
   ]
  },
  {
   "cell_type": "code",
   "execution_count": 7,
   "id": "a77f72b8",
   "metadata": {},
   "outputs": [
    {
     "name": "stdout",
     "output_type": "stream",
     "text": [
      "10 20 30 40 50 60 70 80 90 100 "
     ]
    }
   ],
   "source": [
    "#mencetak angka 10 20 30 ... 100\n",
    "\n",
    "for A in range (10,101,10):\n",
    "    print (A, end=\" \")"
   ]
  },
  {
   "cell_type": "code",
   "execution_count": 8,
   "id": "0f7d1305",
   "metadata": {},
   "outputs": [
    {
     "name": "stdout",
     "output_type": "stream",
     "text": [
      "10 20 30 40 50 60 70 80 90 100 "
     ]
    }
   ],
   "source": [
    "#mencetak angka 10 20 30 ... 100\n",
    "\n",
    "for A in range (1,11):\n",
    "    print (A * 10, end=\" \")"
   ]
  },
  {
   "cell_type": "code",
   "execution_count": 10,
   "id": "533c888e",
   "metadata": {},
   "outputs": [
    {
     "name": "stdout",
     "output_type": "stream",
     "text": [
      "10 9 8 7 6 5 4 3 2 1 "
     ]
    }
   ],
   "source": [
    "#mencetak angka 10 9 8 ... 1\n",
    "\n",
    "for i in range(10,0,-1):\n",
    "    print (i, end=\" \")"
   ]
  },
  {
   "cell_type": "code",
   "execution_count": 14,
   "id": "c9ca3f0d",
   "metadata": {},
   "outputs": [
    {
     "name": "stdout",
     "output_type": "stream",
     "text": [
      "1 -2 3 -4 5 -6 7 -8 9 -10 "
     ]
    }
   ],
   "source": [
    "#mencetak angka 1 -2 3 -4 5 ... 10\n",
    "sign = -1\n",
    "for i in range (1,11):\n",
    "    sign = sign * -1\n",
    "    print (sign * i , end=\" \")"
   ]
  },
  {
   "cell_type": "code",
   "execution_count": 19,
   "id": "583bfc9b",
   "metadata": {},
   "outputs": [
    {
     "name": "stdout",
     "output_type": "stream",
     "text": [
      "Isikan Bilangan: 4\n",
      "4! = 24\n"
     ]
    }
   ],
   "source": [
    "#cari bilangan faktorial\n",
    "# input = 3 , output = 3 * 2 * 1 = 6\n",
    "# input = 4 , output = 4 * 3 * 2 * 1 = 24\n",
    "\n",
    "bil = int(input ('Isikan Bilangan: '))\n",
    "nilai = 1\n",
    "\n",
    "for i in range(1, bil + 1):\n",
    "    nilai = nilai * i\n",
    "    \n",
    "print(f'{bil}! = {nilai}')   "
   ]
  },
  {
   "cell_type": "code",
   "execution_count": 27,
   "id": "e90fe6fa",
   "metadata": {},
   "outputs": [
    {
     "name": "stdout",
     "output_type": "stream",
     "text": [
      "Isikan Bilangan: 9\n",
      "9! = 24\n",
      " 9 * 8 * 7 * 6 * 5 * 4 * 3 * 2 * 1 = 362880\n"
     ]
    }
   ],
   "source": [
    "#cari bilangan faktorial\n",
    "# input = 3 , output = 3 * 2 * 1 = 6\n",
    "# input = 4 , output = 4 * 3 * 2 * 1 = 24\n",
    "\n",
    "bil = int(input ('Isikan Bilangan: '))\n",
    "hasil = 1\n",
    "label = \"\"\n",
    "\n",
    "for i in range(1, bil + 1):\n",
    "    hasil = hasil * i\n",
    "    if i < bil:\n",
    "        label = label + str((bil + 1) - i) + \" * \"\n",
    "    else :\n",
    "        label = label + str((bil + 1) - i)\n",
    "\n",
    "print(f'{bil}! = {nilai}')\n",
    "print(f\" {label} = {hasil}\")"
   ]
  },
  {
   "cell_type": "code",
   "execution_count": 28,
   "id": "e467ebd5",
   "metadata": {},
   "outputs": [
    {
     "name": "stdout",
     "output_type": "stream",
     "text": [
      "isikan bilangan: 3\n",
      " isikan pangkat: 4\n",
      "3^4 = 81\n"
     ]
    }
   ],
   "source": [
    "#mencari perpangkatan\n",
    "\n",
    "bilangan = int(input('isikan bilangan: '))\n",
    "pangkat = int(input(' isikan pangkat: '))\n",
    "\n",
    "hasil = bilangan\n",
    "\n",
    "for i in range(pangkat - 1):\n",
    "    hasil *=bilangan\n",
    "print(f\"{bilangan}^{pangkat} = {hasil}\")    "
   ]
  },
  {
   "cell_type": "code",
   "execution_count": 36,
   "id": "bcf63743",
   "metadata": {},
   "outputs": [
    {
     "name": "stdout",
     "output_type": "stream",
     "text": [
      "isikan bilangan: 9\n",
      "9 adalah bilangan PRIMA\n"
     ]
    }
   ],
   "source": [
    "#mengecek apakah bilangan tersebut prima atau bukan\n",
    "#Bil.ptima adalah bilangan yang\n",
    "#bisa habis di bagi 1 dan bilangan itu sendiri\n",
    "bil = int(input('isikan bilangan: '))\n",
    "jumlah = 0\n",
    "for i in range (1, bil +1):\n",
    "    sisa = bil % i\n",
    "    if sisa == 0:\n",
    "        jumlah = jumlah + 1\n",
    "if jumlah == 2:\n",
    "    print(f\"{bil} bukan bilangan PRIMA\")\n",
    "else:\n",
    "    print(f\"{bil} adalah bilangan PRIMA\")\n"
   ]
  },
  {
   "cell_type": "code",
   "execution_count": 42,
   "id": "92f5bc67",
   "metadata": {},
   "outputs": [
    {
     "name": "stdout",
     "output_type": "stream",
     "text": [
      "isikan bilangan: 4\n",
      "4 adalah bukan bilangan prima\n"
     ]
    }
   ],
   "source": [
    "#mengecek apakah bilangan tersebut prima atau bukan\n",
    "#Bil.ptima adalah bilangan yang\n",
    "#bisa habis di bagi 1 dan bilangan itu sendiri\n",
    "bil = int(input('isikan bilangan: '))\n",
    "keterangan =\"bilangan prima\"\n",
    "for i in range (2, bil):\n",
    "    sisa = bil % i\n",
    "    if sisa == 0:\n",
    "        keterangan = \"bukan bilangan prima\"\n",
    "        break\n",
    "        \n",
    "print(f\"{bil} adalah {keterangan}\")"
   ]
  },
  {
   "cell_type": "code",
   "execution_count": 38,
   "id": "ad3b562e",
   "metadata": {},
   "outputs": [
    {
     "name": "stdout",
     "output_type": "stream",
     "text": [
      "1 2 3 4 5 \n",
      "1 2 3 4 5 6 7 8 9 \n"
     ]
    }
   ],
   "source": [
    "#break dan continue \n",
    "\n",
    "for i in range (1,100):\n",
    "    print (i, end =\" \")\n",
    "    if i ==5:\n",
    "        break\n",
    "print()\n",
    "\n",
    "for j in range (1,10):\n",
    "    print(j, end =\" \")\n",
    "    if j ==5:\n",
    "        continue\n",
    "print()        "
   ]
  },
  {
   "cell_type": "code",
   "execution_count": 46,
   "id": "9ff5bead",
   "metadata": {},
   "outputs": [
    {
     "name": "stdout",
     "output_type": "stream",
     "text": [
      "masukan kalimat: adzan\n",
      "jumlah huruf a: 2\n"
     ]
    }
   ],
   "source": [
    "#looping untuk string\n",
    "kalimat = input(\"masukan kalimat: \")\n",
    "vokal_a = 0\n",
    "for i in kalimat:\n",
    "    if i == 'a':\n",
    "        vokal_a += 1\n",
    "        \n",
    "print(f\"jumlah huruf a: {vokal_a}\")        "
   ]
  },
  {
   "cell_type": "code",
   "execution_count": 59,
   "id": "c3fba68f",
   "metadata": {},
   "outputs": [
    {
     "name": "stdout",
     "output_type": "stream",
     "text": [
      "isikan kalimat: KAKI\n",
      "BUKAN PALINDROME\n"
     ]
    },
    {
     "ename": "KeyboardInterrupt",
     "evalue": "Interrupted by user",
     "output_type": "error",
     "traceback": [
      "\u001b[1;31m---------------------------------------------------------------------------\u001b[0m",
      "\u001b[1;31mKeyboardInterrupt\u001b[0m                         Traceback (most recent call last)",
      "Input \u001b[1;32mIn [59]\u001b[0m, in \u001b[0;36m<cell line: 6>\u001b[1;34m()\u001b[0m\n\u001b[0;32m     17\u001b[0m jawab\u001b[38;5;241m=\u001b[39m\u001b[38;5;124m\"\u001b[39m\u001b[38;5;124m\"\u001b[39m\n\u001b[0;32m     18\u001b[0m \u001b[38;5;28;01mwhile\u001b[39;00m(jawab \u001b[38;5;241m!=\u001b[39m\u001b[38;5;124m\"\u001b[39m\u001b[38;5;124mY\u001b[39m\u001b[38;5;124m\"\u001b[39m \u001b[38;5;129;01mand\u001b[39;00m jawab \u001b[38;5;241m!=\u001b[39m\u001b[38;5;124m\"\u001b[39m\u001b[38;5;124mT\u001b[39m\u001b[38;5;124m\"\u001b[39m):\n\u001b[1;32m---> 19\u001b[0m     ulang \u001b[38;5;241m=\u001b[39m \u001b[38;5;28;43minput\u001b[39;49m\u001b[43m(\u001b[49m\u001b[38;5;124;43m\"\u001b[39;49m\u001b[38;5;124;43mapakah mau mengulang program (Y/T)?: \u001b[39;49m\u001b[38;5;124;43m\"\u001b[39;49m\u001b[43m)\u001b[49m\n\u001b[0;32m     20\u001b[0m ulang \u001b[38;5;241m=\u001b[39m jawab\n",
      "File \u001b[1;32m~\\anaconda3\\lib\\site-packages\\ipykernel\\kernelbase.py:1075\u001b[0m, in \u001b[0;36mKernel.raw_input\u001b[1;34m(self, prompt)\u001b[0m\n\u001b[0;32m   1071\u001b[0m \u001b[38;5;28;01mif\u001b[39;00m \u001b[38;5;129;01mnot\u001b[39;00m \u001b[38;5;28mself\u001b[39m\u001b[38;5;241m.\u001b[39m_allow_stdin:\n\u001b[0;32m   1072\u001b[0m     \u001b[38;5;28;01mraise\u001b[39;00m StdinNotImplementedError(\n\u001b[0;32m   1073\u001b[0m         \u001b[38;5;124m\"\u001b[39m\u001b[38;5;124mraw_input was called, but this frontend does not support input requests.\u001b[39m\u001b[38;5;124m\"\u001b[39m\n\u001b[0;32m   1074\u001b[0m     )\n\u001b[1;32m-> 1075\u001b[0m \u001b[38;5;28;01mreturn\u001b[39;00m \u001b[38;5;28;43mself\u001b[39;49m\u001b[38;5;241;43m.\u001b[39;49m\u001b[43m_input_request\u001b[49m\u001b[43m(\u001b[49m\n\u001b[0;32m   1076\u001b[0m \u001b[43m    \u001b[49m\u001b[38;5;28;43mstr\u001b[39;49m\u001b[43m(\u001b[49m\u001b[43mprompt\u001b[49m\u001b[43m)\u001b[49m\u001b[43m,\u001b[49m\n\u001b[0;32m   1077\u001b[0m \u001b[43m    \u001b[49m\u001b[38;5;28;43mself\u001b[39;49m\u001b[38;5;241;43m.\u001b[39;49m\u001b[43m_parent_ident\u001b[49m\u001b[43m[\u001b[49m\u001b[38;5;124;43m\"\u001b[39;49m\u001b[38;5;124;43mshell\u001b[39;49m\u001b[38;5;124;43m\"\u001b[39;49m\u001b[43m]\u001b[49m\u001b[43m,\u001b[49m\n\u001b[0;32m   1078\u001b[0m \u001b[43m    \u001b[49m\u001b[38;5;28;43mself\u001b[39;49m\u001b[38;5;241;43m.\u001b[39;49m\u001b[43mget_parent\u001b[49m\u001b[43m(\u001b[49m\u001b[38;5;124;43m\"\u001b[39;49m\u001b[38;5;124;43mshell\u001b[39;49m\u001b[38;5;124;43m\"\u001b[39;49m\u001b[43m)\u001b[49m\u001b[43m,\u001b[49m\n\u001b[0;32m   1079\u001b[0m \u001b[43m    \u001b[49m\u001b[43mpassword\u001b[49m\u001b[38;5;241;43m=\u001b[39;49m\u001b[38;5;28;43;01mFalse\u001b[39;49;00m\u001b[43m,\u001b[49m\n\u001b[0;32m   1080\u001b[0m \u001b[43m\u001b[49m\u001b[43m)\u001b[49m\n",
      "File \u001b[1;32m~\\anaconda3\\lib\\site-packages\\ipykernel\\kernelbase.py:1120\u001b[0m, in \u001b[0;36mKernel._input_request\u001b[1;34m(self, prompt, ident, parent, password)\u001b[0m\n\u001b[0;32m   1117\u001b[0m             \u001b[38;5;28;01mbreak\u001b[39;00m\n\u001b[0;32m   1118\u001b[0m \u001b[38;5;28;01mexcept\u001b[39;00m \u001b[38;5;167;01mKeyboardInterrupt\u001b[39;00m:\n\u001b[0;32m   1119\u001b[0m     \u001b[38;5;66;03m# re-raise KeyboardInterrupt, to truncate traceback\u001b[39;00m\n\u001b[1;32m-> 1120\u001b[0m     \u001b[38;5;28;01mraise\u001b[39;00m \u001b[38;5;167;01mKeyboardInterrupt\u001b[39;00m(\u001b[38;5;124m\"\u001b[39m\u001b[38;5;124mInterrupted by user\u001b[39m\u001b[38;5;124m\"\u001b[39m) \u001b[38;5;28;01mfrom\u001b[39;00m \u001b[38;5;28mNone\u001b[39m\n\u001b[0;32m   1121\u001b[0m \u001b[38;5;28;01mexcept\u001b[39;00m \u001b[38;5;167;01mException\u001b[39;00m:\n\u001b[0;32m   1122\u001b[0m     \u001b[38;5;28mself\u001b[39m\u001b[38;5;241m.\u001b[39mlog\u001b[38;5;241m.\u001b[39mwarning(\u001b[38;5;124m\"\u001b[39m\u001b[38;5;124mInvalid Message:\u001b[39m\u001b[38;5;124m\"\u001b[39m, exc_info\u001b[38;5;241m=\u001b[39m\u001b[38;5;28;01mTrue\u001b[39;00m)\n",
      "\u001b[1;31mKeyboardInterrupt\u001b[0m: Interrupted by user"
     ]
    }
   ],
   "source": [
    "#kalimat palindrome atau bukan\n",
    "#palindrome adalah kalimat yang dibaca dari kiri ke kanan == kanan ke kiri\n",
    "#katak => palindrome\n",
    "#kasur rusak => palindrome\n",
    "ulang = \"Y\"\n",
    "while(ulang==\"Y\"):\n",
    "    kalimat = input ('isikan kalimat: ')\n",
    "    panjang = len(kalimat)\n",
    "    keterangan = \"PALINDROME\"\n",
    "    for i in range (0,panjang):\n",
    "        kika = kalimat [i].lower()\n",
    "        kaki = kalimat[panjang - i-1].lower()\n",
    "        if kika != kaki:\n",
    "            keterangan = \"BUKAN PALINDROME\"\n",
    "            break\n",
    "    print(f\"{keterangan}\")\n",
    "    jawab=\"\"\n",
    "    while(jawab !=\"Y\" and jawab !=\"T\"):\n",
    "        ulang = input(\"apakah mau mengulang program (Y/T)?: \")\n",
    "    ulang = jawab\n",
    "    "
   ]
  },
  {
   "cell_type": "code",
   "execution_count": 61,
   "id": "0c070945",
   "metadata": {},
   "outputs": [
    {
     "name": "stdout",
     "output_type": "stream",
     "text": [
      "i:1 dan j:0\n",
      "i:1 dan j:1\n",
      "i:1 dan j:2\n",
      "i:1 dan j:3\n",
      "i:1 dan j:4\n",
      "i:2 dan j:0\n",
      "i:2 dan j:1\n",
      "i:2 dan j:2\n",
      "i:2 dan j:3\n",
      "i:2 dan j:4\n",
      "i:3 dan j:0\n",
      "i:3 dan j:1\n",
      "i:3 dan j:2\n",
      "i:3 dan j:3\n",
      "i:3 dan j:4\n",
      "i:4 dan j:0\n",
      "i:4 dan j:1\n",
      "i:4 dan j:2\n",
      "i:4 dan j:3\n",
      "i:4 dan j:4\n"
     ]
    }
   ],
   "source": [
    "#NESTED FOR\n",
    "\n",
    "for i in range (1,5):\n",
    "    for j in range(5):\n",
    "        print(f\"i:{i} dan j:{j}\")"
   ]
  },
  {
   "cell_type": "code",
   "execution_count": null,
   "id": "037d9290",
   "metadata": {},
   "outputs": [],
   "source": []
  }
 ],
 "metadata": {
  "kernelspec": {
   "display_name": "Python 3 (ipykernel)",
   "language": "python",
   "name": "python3"
  },
  "language_info": {
   "codemirror_mode": {
    "name": "ipython",
    "version": 3
   },
   "file_extension": ".py",
   "mimetype": "text/x-python",
   "name": "python",
   "nbconvert_exporter": "python",
   "pygments_lexer": "ipython3",
   "version": "3.9.12"
  }
 },
 "nbformat": 4,
 "nbformat_minor": 5
}
